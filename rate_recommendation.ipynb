{
 "cells": [
  {
   "cell_type": "markdown",
   "id": "d442df9c",
   "metadata": {},
   "source": [
    "### Описание проекта\n",
    "\n",
    "Многие клиенты пользуются архивными тарифами. Нужно построить систему, способную проанализировать поведение клиентов и предложить пользователям новый тариф: «Смарт» или «Ультра».\n",
    "В нашем распоряжении данные о поведении клиентов, которые уже перешли на эти тарифы. Нужно построить модель для задачи классификации, которая выберет подходящий тариф. Предобработка данных не понадобится.\n",
    "Построим модель с максимально большим значением accuracy. Доведем долю правильных ответов по крайней мере до 0.75. Проверим accuracy на тестовой выборке самостоятельно."
   ]
  },
  {
   "cell_type": "code",
   "execution_count": 1,
   "id": "98dec816",
   "metadata": {},
   "outputs": [],
   "source": [
    "import pandas as pd\n",
    "import numpy as np\n",
    "import matplotlib.pyplot as plt\n",
    "\n",
    "from sklearn.tree import DecisionTreeClassifier\n",
    "from sklearn.ensemble import RandomForestClassifier\n",
    "from sklearn.linear_model import LogisticRegression\n",
    "\n",
    "from sklearn.metrics import accuracy_score\n",
    "\n",
    "from sklearn.model_selection import train_test_split\n",
    "\n",
    "import warnings\n",
    "warnings.filterwarnings(\"ignore\")"
   ]
  },
  {
   "cell_type": "code",
   "execution_count": 2,
   "id": "2e4a7ab7",
   "metadata": {},
   "outputs": [],
   "source": [
    "df = pd.read_csv('users_behavior.csv')"
   ]
  },
  {
   "cell_type": "code",
   "execution_count": 3,
   "id": "d4bffae5",
   "metadata": {},
   "outputs": [
    {
     "data": {
      "text/html": [
       "<div>\n",
       "<style scoped>\n",
       "    .dataframe tbody tr th:only-of-type {\n",
       "        vertical-align: middle;\n",
       "    }\n",
       "\n",
       "    .dataframe tbody tr th {\n",
       "        vertical-align: top;\n",
       "    }\n",
       "\n",
       "    .dataframe thead th {\n",
       "        text-align: right;\n",
       "    }\n",
       "</style>\n",
       "<table border=\"1\" class=\"dataframe\">\n",
       "  <thead>\n",
       "    <tr style=\"text-align: right;\">\n",
       "      <th></th>\n",
       "      <th>calls</th>\n",
       "      <th>minutes</th>\n",
       "      <th>messages</th>\n",
       "      <th>mb_used</th>\n",
       "      <th>is_ultra</th>\n",
       "    </tr>\n",
       "  </thead>\n",
       "  <tbody>\n",
       "    <tr>\n",
       "      <th>0</th>\n",
       "      <td>40.0</td>\n",
       "      <td>311.90</td>\n",
       "      <td>83.0</td>\n",
       "      <td>19915.42</td>\n",
       "      <td>0</td>\n",
       "    </tr>\n",
       "    <tr>\n",
       "      <th>1</th>\n",
       "      <td>85.0</td>\n",
       "      <td>516.75</td>\n",
       "      <td>56.0</td>\n",
       "      <td>22696.96</td>\n",
       "      <td>0</td>\n",
       "    </tr>\n",
       "    <tr>\n",
       "      <th>2</th>\n",
       "      <td>77.0</td>\n",
       "      <td>467.66</td>\n",
       "      <td>86.0</td>\n",
       "      <td>21060.45</td>\n",
       "      <td>0</td>\n",
       "    </tr>\n",
       "    <tr>\n",
       "      <th>3</th>\n",
       "      <td>106.0</td>\n",
       "      <td>745.53</td>\n",
       "      <td>81.0</td>\n",
       "      <td>8437.39</td>\n",
       "      <td>1</td>\n",
       "    </tr>\n",
       "    <tr>\n",
       "      <th>4</th>\n",
       "      <td>66.0</td>\n",
       "      <td>418.74</td>\n",
       "      <td>1.0</td>\n",
       "      <td>14502.75</td>\n",
       "      <td>0</td>\n",
       "    </tr>\n",
       "  </tbody>\n",
       "</table>\n",
       "</div>"
      ],
      "text/plain": [
       "   calls  minutes  messages   mb_used  is_ultra\n",
       "0   40.0   311.90      83.0  19915.42         0\n",
       "1   85.0   516.75      56.0  22696.96         0\n",
       "2   77.0   467.66      86.0  21060.45         0\n",
       "3  106.0   745.53      81.0   8437.39         1\n",
       "4   66.0   418.74       1.0  14502.75         0"
      ]
     },
     "execution_count": 3,
     "metadata": {},
     "output_type": "execute_result"
    }
   ],
   "source": [
    "df.head()"
   ]
  },
  {
   "cell_type": "code",
   "execution_count": 4,
   "id": "0b8ee4cd",
   "metadata": {},
   "outputs": [
    {
     "name": "stdout",
     "output_type": "stream",
     "text": [
      "<class 'pandas.core.frame.DataFrame'>\n",
      "RangeIndex: 3214 entries, 0 to 3213\n",
      "Data columns (total 5 columns):\n",
      " #   Column    Non-Null Count  Dtype  \n",
      "---  ------    --------------  -----  \n",
      " 0   calls     3214 non-null   float64\n",
      " 1   minutes   3214 non-null   float64\n",
      " 2   messages  3214 non-null   float64\n",
      " 3   mb_used   3214 non-null   float64\n",
      " 4   is_ultra  3214 non-null   int64  \n",
      "dtypes: float64(4), int64(1)\n",
      "memory usage: 125.7 KB\n"
     ]
    }
   ],
   "source": [
    "df.info()"
   ]
  },
  {
   "cell_type": "markdown",
   "id": "f560d126",
   "metadata": {},
   "source": [
    "Пропусков в данных нет, все признаки количественные. Целевой признак is_ultra бинарный. Перед нами задача бинарной классификации. Необходимо изучить признаки:"
   ]
  },
  {
   "cell_type": "code",
   "execution_count": 5,
   "id": "a6613845",
   "metadata": {
    "scrolled": true
   },
   "outputs": [
    {
     "data": {
      "image/png": "[encoded data removed]",
      "text/plain": [
       "<Figure size 432x288 with 1 Axes>"
      ]
     },
     "metadata": {
      "needs_background": "light"
     },
     "output_type": "display_data"
    },
    {
     "data": {
      "image/png": "[encoded data removed]",
      "text/plain": [
       "<Figure size 432x288 with 1 Axes>"
      ]
     },
     "metadata": {
      "needs_background": "light"
     },
     "output_type": "display_data"
    },
    {
     "data": {
      "image/png": "[encoded data removed]",
      "text/plain": [
       "<Figure size 432x288 with 1 Axes>"
      ]
     },
     "metadata": {
      "needs_background": "light"
     },
     "output_type": "display_data"
    },
    {
     "data": {
      "image/png": "[encoded data removed]",
      "text/plain": [
       "<Figure size 432x288 with 1 Axes>"
      ]
     },
     "metadata": {
      "needs_background": "light"
     },
     "output_type": "display_data"
    }
   ],
   "source": [
    "columns = ['calls', 'minutes', 'messages', 'mb_used']\n",
    "for c in columns:\n",
    "    df.hist(c, bins=50, grid=False)\n",
    "    plt.show()"
   ]
  },
  {
   "cell_type": "markdown",
   "id": "ab173834",
   "metadata": {},
   "source": [
    "Распределения Пуассона на всех графиках, в messages есть пик около 0.\n",
    "Проведем анализ факторов, которые войдут в модель. Если есть мультиколлинеарность факторов (когда факторы модели имеют сильную связь друг с другом), то сразу можно один из факторов исключить.\n",
    "\n",
    "Построим матрицу корреляции для каждых признаков:"
   ]
  },
  {
   "cell_type": "code",
   "execution_count": 6,
   "id": "0990279c",
   "metadata": {},
   "outputs": [
    {
     "data": {
      "text/html": [
       "<style type=\"text/css\">\n",
       "#T_e8826_row0_col0, #T_e8826_row1_col1, #T_e8826_row2_col2, #T_e8826_row3_col3, #T_e8826_row4_col4 {\n",
       "  background-color: #b40426;\n",
       "  color: #f1f1f1;\n",
       "}\n",
       "#T_e8826_row0_col1, #T_e8826_row1_col0 {\n",
       "  background-color: #bb1b2c;\n",
       "  color: #f1f1f1;\n",
       "}\n",
       "#T_e8826_row0_col2, #T_e8826_row2_col4 {\n",
       "  background-color: #3c4ec2;\n",
       "  color: #f1f1f1;\n",
       "}\n",
       "#T_e8826_row0_col3 {\n",
       "  background-color: #5d7ce6;\n",
       "  color: #f1f1f1;\n",
       "}\n",
       "#T_e8826_row0_col4, #T_e8826_row1_col4 {\n",
       "  background-color: #3d50c3;\n",
       "  color: #f1f1f1;\n",
       "}\n",
       "#T_e8826_row1_col2, #T_e8826_row2_col0, #T_e8826_row2_col1, #T_e8826_row2_col3, #T_e8826_row3_col4, #T_e8826_row4_col3 {\n",
       "  background-color: #3b4cc0;\n",
       "  color: #f1f1f1;\n",
       "}\n",
       "#T_e8826_row1_col3 {\n",
       "  background-color: #5b7ae5;\n",
       "  color: #f1f1f1;\n",
       "}\n",
       "#T_e8826_row3_col0, #T_e8826_row3_col1 {\n",
       "  background-color: #6384eb;\n",
       "  color: #f1f1f1;\n",
       "}\n",
       "#T_e8826_row3_col2 {\n",
       "  background-color: #4358cb;\n",
       "  color: #f1f1f1;\n",
       "}\n",
       "#T_e8826_row4_col0, #T_e8826_row4_col2 {\n",
       "  background-color: #455cce;\n",
       "  color: #f1f1f1;\n",
       "}\n",
       "#T_e8826_row4_col1 {\n",
       "  background-color: #465ecf;\n",
       "  color: #f1f1f1;\n",
       "}\n",
       "</style>\n",
       "<table id=\"T_e8826_\">\n",
       "  <thead>\n",
       "    <tr>\n",
       "      <th class=\"blank level0\" >&nbsp;</th>\n",
       "      <th class=\"col_heading level0 col0\" >calls</th>\n",
       "      <th class=\"col_heading level0 col1\" >minutes</th>\n",
       "      <th class=\"col_heading level0 col2\" >messages</th>\n",
       "      <th class=\"col_heading level0 col3\" >mb_used</th>\n",
       "      <th class=\"col_heading level0 col4\" >is_ultra</th>\n",
       "    </tr>\n",
       "  </thead>\n",
       "  <tbody>\n",
       "    <tr>\n",
       "      <th id=\"T_e8826_level0_row0\" class=\"row_heading level0 row0\" >calls</th>\n",
       "      <td id=\"T_e8826_row0_col0\" class=\"data row0 col0\" >1.000000</td>\n",
       "      <td id=\"T_e8826_row0_col1\" class=\"data row0 col1\" >0.982083</td>\n",
       "      <td id=\"T_e8826_row0_col2\" class=\"data row0 col2\" >0.177385</td>\n",
       "      <td id=\"T_e8826_row0_col3\" class=\"data row0 col3\" >0.286442</td>\n",
       "      <td id=\"T_e8826_row0_col4\" class=\"data row0 col4\" >0.207122</td>\n",
       "    </tr>\n",
       "    <tr>\n",
       "      <th id=\"T_e8826_level0_row1\" class=\"row_heading level0 row1\" >minutes</th>\n",
       "      <td id=\"T_e8826_row1_col0\" class=\"data row1 col0\" >0.982083</td>\n",
       "      <td id=\"T_e8826_row1_col1\" class=\"data row1 col1\" >1.000000</td>\n",
       "      <td id=\"T_e8826_row1_col2\" class=\"data row1 col2\" >0.173110</td>\n",
       "      <td id=\"T_e8826_row1_col3\" class=\"data row1 col3\" >0.280967</td>\n",
       "      <td id=\"T_e8826_row1_col4\" class=\"data row1 col4\" >0.206955</td>\n",
       "    </tr>\n",
       "    <tr>\n",
       "      <th id=\"T_e8826_level0_row2\" class=\"row_heading level0 row2\" >messages</th>\n",
       "      <td id=\"T_e8826_row2_col0\" class=\"data row2 col0\" >0.177385</td>\n",
       "      <td id=\"T_e8826_row2_col1\" class=\"data row2 col1\" >0.173110</td>\n",
       "      <td id=\"T_e8826_row2_col2\" class=\"data row2 col2\" >1.000000</td>\n",
       "      <td id=\"T_e8826_row2_col3\" class=\"data row2 col3\" >0.195721</td>\n",
       "      <td id=\"T_e8826_row2_col4\" class=\"data row2 col4\" >0.203830</td>\n",
       "    </tr>\n",
       "    <tr>\n",
       "      <th id=\"T_e8826_level0_row3\" class=\"row_heading level0 row3\" >mb_used</th>\n",
       "      <td id=\"T_e8826_row3_col0\" class=\"data row3 col0\" >0.286442</td>\n",
       "      <td id=\"T_e8826_row3_col1\" class=\"data row3 col1\" >0.280967</td>\n",
       "      <td id=\"T_e8826_row3_col2\" class=\"data row3 col2\" >0.195721</td>\n",
       "      <td id=\"T_e8826_row3_col3\" class=\"data row3 col3\" >1.000000</td>\n",
       "      <td id=\"T_e8826_row3_col4\" class=\"data row3 col4\" >0.198568</td>\n",
       "    </tr>\n",
       "    <tr>\n",
       "      <th id=\"T_e8826_level0_row4\" class=\"row_heading level0 row4\" >is_ultra</th>\n",
       "      <td id=\"T_e8826_row4_col0\" class=\"data row4 col0\" >0.207122</td>\n",
       "      <td id=\"T_e8826_row4_col1\" class=\"data row4 col1\" >0.206955</td>\n",
       "      <td id=\"T_e8826_row4_col2\" class=\"data row4 col2\" >0.203830</td>\n",
       "      <td id=\"T_e8826_row4_col3\" class=\"data row4 col3\" >0.198568</td>\n",
       "      <td id=\"T_e8826_row4_col4\" class=\"data row4 col4\" >1.000000</td>\n",
       "    </tr>\n",
       "  </tbody>\n",
       "</table>\n"
      ],
      "text/plain": [
       "<pandas.io.formats.style.Styler at 0x7f521224ea00>"
      ]
     },
     "execution_count": 6,
     "metadata": {},
     "output_type": "execute_result"
    }
   ],
   "source": [
    "corr = df.corr()\n",
    "corr.style.background_gradient(cmap='coolwarm')"
   ]
  },
  {
   "cell_type": "code",
   "execution_count": 7,
   "id": "98619ec2",
   "metadata": {},
   "outputs": [
    {
     "data": {
      "image/png": "[encoded data removed]",
      "text/plain": [
       "<Figure size 432x288 with 1 Axes>"
      ]
     },
     "metadata": {
      "needs_background": "light"
     },
     "output_type": "display_data"
    }
   ],
   "source": [
    "df.plot(kind='scatter', x='minutes', y='calls');"
   ]
  },
  {
   "cell_type": "markdown",
   "id": "122f7b19",
   "metadata": {},
   "source": [
    "Наиболее высокая корреляция между minutes и calls. Можно отбросить один из признаков для обучения модели."
   ]
  },
  {
   "cell_type": "markdown",
   "id": "f87695c3",
   "metadata": {},
   "source": [
    "Разделим исходные данные на обучающую, валидационную и тестовую выборки с пропорцией 3:1:1 :"
   ]
  },
  {
   "cell_type": "code",
   "execution_count": 8,
   "id": "077234da",
   "metadata": {},
   "outputs": [],
   "source": [
    "features = df.drop(['is_ultra', 'calls'], axis=1)\n",
    "target = df['is_ultra']\n",
    "\n",
    "features_train, features_valid, target_train, target_valid = train_test_split(\n",
    "    features, target, test_size=0.4, random_state=12345)\n",
    "\n",
    "features_valid, features_test, target_valid, target_test = train_test_split(\n",
    "    features_valid, target_valid, test_size=0.5, random_state=12345)"
   ]
  },
  {
   "cell_type": "code",
   "execution_count": 9,
   "id": "ed862505",
   "metadata": {},
   "outputs": [
    {
     "name": "stdout",
     "output_type": "stream",
     "text": [
      "(1928, 3)\n",
      "(1928,)\n",
      "\n",
      "(643, 3)\n",
      "(643,)\n",
      "\n",
      "(643, 3)\n",
      "(643,)\n"
     ]
    }
   ],
   "source": [
    "print(features_train.shape)\n",
    "print(target_train.shape)\n",
    "print()\n",
    "print(features_valid.shape)\n",
    "print(target_valid.shape)\n",
    "print()\n",
    "print(features_test.shape)\n",
    "print(target_test.shape)"
   ]
  },
  {
   "cell_type": "markdown",
   "id": "94da72b1",
   "metadata": {},
   "source": [
    "Решаем задачу классификации. Тариф \"Ультра\" - 1, тариф \"Смарт\" - 0.\n",
    "\n",
    "Рассмотрим модели решающего дерева, случайного леса и логистической регрессии без подбора гиперпараметров:"
   ]
  },
  {
   "cell_type": "code",
   "execution_count": 10,
   "id": "4ad4871e",
   "metadata": {},
   "outputs": [
    {
     "name": "stdout",
     "output_type": "stream",
     "text": [
      "DecisionTreeClassifier : 0.7122861586314152\n",
      "RandomForestClassifier : 0.7791601866251944\n",
      "LogisticRegression : 0.7076205287713841\n"
     ]
    }
   ],
   "source": [
    "def acc_model(model, name):\n",
    "    model = model(random_state=12345)\n",
    "    model.fit(features_train, target_train)\n",
    "    predictions = model.predict(features_valid)\n",
    "    accuracy = model.score(features_valid, target_valid)\n",
    "    print(f'{name} :', accuracy)\n",
    "    \n",
    "acc_model(DecisionTreeClassifier, 'DecisionTreeClassifier')\n",
    "acc_model(RandomForestClassifier, 'RandomForestClassifier')\n",
    "acc_model(LogisticRegression, 'LogisticRegression')"
   ]
  },
  {
   "cell_type": "markdown",
   "id": "bb369f24",
   "metadata": {},
   "source": [
    "**Наиболее высокий результат у модели RandomForestClassifier - 0.7791601866251944**\n",
    "\n",
    "Далее настроим гиперпараметры моделей:"
   ]
  },
  {
   "cell_type": "markdown",
   "id": "51592ee6",
   "metadata": {},
   "source": [
    "### Решающее дерево"
   ]
  },
  {
   "cell_type": "code",
   "execution_count": 11,
   "id": "2a1532ee",
   "metadata": {},
   "outputs": [
    {
     "name": "stdout",
     "output_type": "stream",
     "text": [
      "Accuracy  модели: 0.7542768273716952\n",
      "Accuracy  модели: 0.7822706065318819\n",
      "Accuracy  модели: 0.7853810264385692\n",
      "Accuracy  модели: 0.7884914463452566\n",
      "Accuracy  модели: 0.7884914463452566\n",
      "Accuracy  модели: 0.7744945567651633\n",
      "Accuracy  модели: 0.7713841368584758\n",
      "Accuracy  модели: 0.7744945567651633\n",
      "Accuracy  модели: 0.7791601866251944\n",
      "\n",
      "Accuracy наилучшей модели на валидационной выборке: 0.7884914463452566\n",
      "Глубина дерева:  4\n"
     ]
    }
   ],
   "source": [
    "best_result = 0\n",
    "best_depth = 0\n",
    "\n",
    "for depth in range(1, 10):\n",
    "    depth_i = depth\n",
    "    model = DecisionTreeClassifier(max_depth=depth_i, random_state=12345)\n",
    "    model.fit(features_train, target_train)\n",
    "    result = model.score(features_valid, target_valid)\n",
    "    print(\"Accuracy  модели:\", result)\n",
    "    if result > best_result:\n",
    "        best_result = result\n",
    "        best_depth = depth_i\n",
    "\n",
    "print()\n",
    "print(\"Accuracy наилучшей модели на валидационной выборке:\", best_result)\n",
    "print(\"Глубина дерева: \", best_depth)"
   ]
  },
  {
   "cell_type": "markdown",
   "id": "619b0e95",
   "metadata": {},
   "source": [
    "### Случайный лес\n"
   ]
  },
  {
   "cell_type": "code",
   "execution_count": 12,
   "id": "3f2dd3b3",
   "metadata": {},
   "outputs": [
    {
     "name": "stdout",
     "output_type": "stream",
     "text": [
      "Количество деревьев: 10\n",
      "Accuracy  модели для глубины 1: 0.7480559875583204\n",
      "Accuracy  модели для глубины 2: 0.7698289269051322\n",
      "Accuracy  модели для глубины 3: 0.7822706065318819\n",
      "Accuracy  модели для глубины 4: 0.7838258164852255\n",
      "Accuracy  модели для глубины 5: 0.7853810264385692\n",
      "Accuracy  модели для глубины 6: 0.7853810264385692\n",
      "Accuracy  модели для глубины 7: 0.7916018662519441\n",
      "Accuracy  модели для глубины 8: 0.7838258164852255\n",
      "Accuracy  модели для глубины 9: 0.7869362363919129\n",
      "Accuracy  модели для глубины 10: 0.7869362363919129\n",
      "\n",
      "Количество деревьев: 20\n",
      "Accuracy  модели для глубины 1: 0.7465007776049767\n",
      "Accuracy  модели для глубины 2: 0.7853810264385692\n",
      "Accuracy  модели для глубины 3: 0.7791601866251944\n",
      "Accuracy  модели для глубины 4: 0.7853810264385692\n",
      "Accuracy  модели для глубины 5: 0.7853810264385692\n",
      "Accuracy  модели для глубины 6: 0.7791601866251944\n",
      "Accuracy  модели для глубины 7: 0.7916018662519441\n",
      "Accuracy  модели для глубины 8: 0.7993779160186625\n",
      "Accuracy  модели для глубины 9: 0.7822706065318819\n",
      "Accuracy  модели для глубины 10: 0.7900466562986003\n",
      "\n",
      "Количество деревьев: 30\n",
      "Accuracy  модели для глубины 1: 0.7465007776049767\n",
      "Accuracy  модели для глубины 2: 0.7729393468118196\n",
      "Accuracy  модели для глубины 3: 0.7807153965785381\n",
      "Accuracy  модели для глубины 4: 0.7807153965785381\n",
      "Accuracy  модели для глубины 5: 0.7822706065318819\n",
      "Accuracy  модели для глубины 6: 0.7791601866251944\n",
      "Accuracy  модели для глубины 7: 0.7869362363919129\n",
      "Accuracy  модели для глубины 8: 0.7947122861586314\n",
      "Accuracy  модели для глубины 9: 0.7838258164852255\n",
      "Accuracy  модели для глубины 10: 0.7884914463452566\n",
      "\n",
      "Количество деревьев: 40\n",
      "Accuracy  модели для глубины 1: 0.744945567651633\n",
      "Accuracy  модели для глубины 2: 0.7838258164852255\n",
      "Accuracy  модели для глубины 3: 0.7807153965785381\n",
      "Accuracy  модели для глубины 4: 0.7853810264385692\n",
      "Accuracy  модели для глубины 5: 0.7869362363919129\n",
      "Accuracy  модели для глубины 6: 0.7822706065318819\n",
      "Accuracy  модели для глубины 7: 0.7869362363919129\n",
      "Accuracy  модели для глубины 8: 0.7947122861586314\n",
      "Accuracy  модели для глубины 9: 0.7838258164852255\n",
      "Accuracy  модели для глубины 10: 0.7900466562986003\n",
      "\n",
      "Количество деревьев: 50\n",
      "Accuracy  модели для глубины 1: 0.744945567651633\n",
      "Accuracy  модели для глубины 2: 0.7791601866251944\n",
      "Accuracy  модели для глубины 3: 0.7807153965785381\n",
      "Accuracy  модели для глубины 4: 0.7838258164852255\n",
      "Accuracy  модели для глубины 5: 0.7853810264385692\n",
      "Accuracy  модели для глубины 6: 0.7853810264385692\n",
      "Accuracy  модели для глубины 7: 0.7884914463452566\n",
      "Accuracy  модели для глубины 8: 0.7947122861586314\n",
      "Accuracy  модели для глубины 9: 0.7869362363919129\n",
      "Accuracy  модели для глубины 10: 0.7838258164852255\n",
      "\n",
      "\n",
      "Accuracy наилучшей модели на валидационной выборке:  0.7993779160186625\n",
      "Количество деревьев:  20\n",
      "Глубина дерева:  8\n"
     ]
    }
   ],
   "source": [
    "best_model = None\n",
    "best_result = 0\n",
    "best_depth = 0\n",
    "best_est = 0\n",
    "\n",
    "for est in range(10, 51, 10):\n",
    "    est_i = est\n",
    "    print(f\"Количество деревьев: {est_i}\")\n",
    "    for depth in range (1, 11):\n",
    "        depth_i = depth\n",
    "        model = RandomForestClassifier(random_state=12345, n_estimators=est, max_depth=depth_i)\n",
    "        model.fit(features_train, target_train)\n",
    "        result = model.score(features_valid, target_valid)\n",
    "        print(f\"Accuracy  модели для глубины {depth_i}:\", result)\n",
    "        if result > best_result:\n",
    "            best_model = model\n",
    "            best_result = result\n",
    "            best_depth = depth_i\n",
    "            best_est = est_i\n",
    "    print()\n",
    "\n",
    "print()\n",
    "print(\"Accuracy наилучшей модели на валидационной выборке: \", best_result)\n",
    "print(\"Количество деревьев: \", best_est)\n",
    "print(\"Глубина дерева: \", best_depth)"
   ]
  },
  {
   "cell_type": "markdown",
   "id": "12485b9c",
   "metadata": {},
   "source": [
    "### Логистическая регрессия"
   ]
  },
  {
   "cell_type": "code",
   "execution_count": 13,
   "id": "427d9cfa",
   "metadata": {},
   "outputs": [
    {
     "name": "stdout",
     "output_type": "stream",
     "text": [
      "Accuracy модели логистической регрессии на валидационной выборке: 0.7076205287713841\n"
     ]
    }
   ],
   "source": [
    "model = LogisticRegression(random_state=12345)\n",
    "model.fit(features_train, target_train)\n",
    "result = model.score(features_valid, target_valid)\n",
    "print(\"Accuracy модели логистической регрессии на валидационной выборке:\", result)"
   ]
  },
  {
   "cell_type": "markdown",
   "id": "6cf797fc",
   "metadata": {},
   "source": [
    "### Сравнение моделей\n",
    "\n",
    "- Самое высокое качество у случайного леса при 20 деревьях и глубине дерева 8: **0.7993779160186625**\n",
    "- На втором месте решающее дерево с параметрами глубины 4: **0.7884914463452566**\n",
    "- На третьем логистическая регрессия: **0.7076205287713841**\n",
    "\n",
    "### Проверка модели на тестовой выборке\n",
    "\n",
    "Для начала обучим модель на выборке train + valid. И проверим на выборке test:"
   ]
  },
  {
   "cell_type": "code",
   "execution_count": 14,
   "id": "9ce16a58",
   "metadata": {},
   "outputs": [],
   "source": [
    "features = pd.concat([features_train, features_valid], axis=0).reset_index(drop=True)\n",
    "target = pd.concat([target_train, target_valid], axis=0).reset_index(drop=True)"
   ]
  },
  {
   "cell_type": "code",
   "execution_count": 15,
   "id": "99970b86",
   "metadata": {},
   "outputs": [
    {
     "name": "stdout",
     "output_type": "stream",
     "text": [
      "Accuracy лучшей модели: 0.8087091757387247\n"
     ]
    }
   ],
   "source": [
    "best_model = RandomForestClassifier(random_state=12345, n_estimators=20, max_depth=8)\n",
    "best_model.fit(features, target)\n",
    "accuracy = best_model.score(features_test, target_test)\n",
    "print('Accuracy лучшей модели:', accuracy)"
   ]
  },
  {
   "cell_type": "code",
   "execution_count": 16,
   "id": "90d33621",
   "metadata": {},
   "outputs": [],
   "source": [
    "best_model_predictions = best_model.predict(features_test)"
   ]
  },
  {
   "cell_type": "code",
   "execution_count": 17,
   "id": "fe8314ce",
   "metadata": {},
   "outputs": [
    {
     "data": {
      "text/plain": [
       "0    0\n",
       "1    1\n",
       "2    1\n",
       "3    0\n",
       "4    1\n",
       "dtype: int64"
      ]
     },
     "execution_count": 17,
     "metadata": {},
     "output_type": "execute_result"
    }
   ],
   "source": [
    "best_model_predictions = pd.Series(np.squeeze(best_model_predictions))\n",
    "best_model_predictions.head()"
   ]
  },
  {
   "cell_type": "code",
   "execution_count": 18,
   "id": "ad3f3dad",
   "metadata": {},
   "outputs": [
    {
     "data": {
      "text/plain": [
       "2.564102564102563"
      ]
     },
     "execution_count": 18,
     "metadata": {},
     "output_type": "execute_result"
    }
   ],
   "source": [
    "(0.8087091757387247 - 0.7884914463452566) / 0.7884914463452566 * 100"
   ]
  },
  {
   "cell_type": "markdown",
   "id": "46ba350e",
   "metadata": {},
   "source": [
    "Качество модели случайного леса немного увеличилось после обучения на выборке и проверке на тестовой. \n",
    "\n",
    "### Вменяемость модели\n",
    "\n",
    "Сначала необходимо сбросить индексы, чтобы в цикле можно было сравнить значения: "
   ]
  },
  {
   "cell_type": "code",
   "execution_count": 19,
   "id": "421024a8",
   "metadata": {},
   "outputs": [],
   "source": [
    "target_test = target_test.reset_index(drop=True)"
   ]
  },
  {
   "cell_type": "markdown",
   "id": "a6427626",
   "metadata": {},
   "source": [
    "Создадим список рандомных ответов с помощью random.randint и преобразуем в объект Series."
   ]
  },
  {
   "cell_type": "code",
   "execution_count": 20,
   "id": "145d8233",
   "metadata": {},
   "outputs": [],
   "source": [
    "# случайная модель\n",
    "import random\n",
    "predictions_list = []\n",
    "\n",
    "for i in range(len(target_test)):\n",
    "    x = random.randint(0,1)\n",
    "    predictions_list.append(x)\n",
    "    \n",
    "random_model_predictions = pd.Series(predictions_list)"
   ]
  },
  {
   "cell_type": "markdown",
   "id": "d45e60de",
   "metadata": {},
   "source": [
    "Сравним предсказания случайной модели и реальные ответы тестового признака. Таким же способом сравним предсказания нашей лучшей модели и реальные ответы тестового признака. Если предсказания совпадают с ответами, то +1 к оценке.\n",
    "\n",
    "Найдем отношение количества предсказаний к реальным ответам:"
   ]
  },
  {
   "cell_type": "code",
   "execution_count": 21,
   "id": "c67012ad",
   "metadata": {},
   "outputs": [
    {
     "name": "stdout",
     "output_type": "stream",
     "text": [
      "Точность случайной модели 0.5256609642301711\n",
      "Точность лучшей модели 0.8087091757387247\n"
     ]
    }
   ],
   "source": [
    "random_model_score = 0\n",
    "best_model_score = 0\n",
    "\n",
    "for i in range(len(target_test)):\n",
    "    if random_model_predictions[i] == target_test[i]:\n",
    "        random_model_score += 1\n",
    "    if best_model_predictions[i] == target_test[i]:\n",
    "        best_model_score += 1\n",
    "\n",
    "print('Точность случайной модели', random_model_score / len(target_test))\n",
    "print('Точность лучшей модели', best_model_score / len(target_test))"
   ]
  },
  {
   "cell_type": "markdown",
   "id": "2f3cf482",
   "metadata": {},
   "source": [
    "Точность лучшей модели случайного леса с гиперпараметрами (Количество деревьев:  20 и Глубина дерева:  8) по сравнению со случайной  моделью дает ответ, что наша модель случайного леса адекватна для использования. "
   ]
  },
  {
   "cell_type": "markdown",
   "id": "40dc45ba",
   "metadata": {},
   "source": [
    "### Вывод\n",
    "\n",
    "Были изучены данные по тарифам и разработаны следующие модели машинного обучения: DecisionTreeClassifier, RandomForestClassifier, LogisticRegression.\n",
    "\n",
    "Исходные данные поделили на train, valid, test в пропорции 3:1:1.\n",
    "\n",
    "Лучшая модель: **RandomForestClassifier** с гиперпараметрами (**n_estimators = 20, max_depth=8**)\n",
    "\n",
    "Accuracy модели на test: **0.8087091757387247**\n",
    "\n",
    "Модель прошла проверку на вменяемость, так как случайная модель выдала точность **0.5256609642301711**"
   ]
  }
 ],
 "metadata": {
  "kernelspec": {
   "display_name": "Python 3 (ipykernel)",
   "language": "python",
   "name": "python3"
  },
  "language_info": {
   "codemirror_mode": {
    "name": "ipython",
    "version": 3
   },
   "file_extension": ".py",
   "mimetype": "text/x-python",
   "name": "python",
   "nbconvert_exporter": "python",
   "pygments_lexer": "ipython3",
   "version": "3.8.8"
  }
 },
 "nbformat": 4,
 "nbformat_minor": 5
}
